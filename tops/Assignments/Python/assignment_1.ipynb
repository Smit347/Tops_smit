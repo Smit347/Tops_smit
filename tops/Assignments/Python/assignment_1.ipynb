{
 "cells": [
  {
   "cell_type": "code",
   "execution_count": null,
   "id": "e785abbf-ad73-4324-acb8-1ee5d48a2f03",
   "metadata": {},
   "outputs": [],
   "source": [
    "#1 - theory\n",
    "\n",
    "#Applications can be classified into various types, including web applications, \n",
    "mobile applications, desktop applications, system software, enterprise applications, \n",
    "game applications, embedded applications, cloud applications, AI applications, and \n",
    "open-source applications. Each type serves different purposes and targets specific \n",
    "user needs."
   ]
  },
  {
   "cell_type": "code",
   "execution_count": null,
   "id": "89b0c6c7-cbf2-4adf-9853-add29ae16824",
   "metadata": {},
   "outputs": [],
   "source": [
    "#2 - theory\n",
    "\n",
    "#programming is the act of creating software by writing code in programming languages to\n",
    "instruct computers to perform specific tasks or solve problems. It involves understanding \n",
    "logic, algorithms, and the various aspects of software development, and it plays a \n",
    "crucial role in technology and innovation.\n"
   ]
  },
  {
   "cell_type": "code",
   "execution_count": null,
   "id": "1f363f05-cc0c-4c89-91d5-d0a4755aae0f",
   "metadata": {},
   "outputs": [],
   "source": [
    "#3 - theory\n",
    "\n",
    "#Python is a high-level, interpreted programming language known for its simplicity and \n",
    "readability. Created by Guido van Rossum and first released in 1991, Python \n",
    "emphasizes code clarity and enables programmers to express concepts in fewer lines \n",
    "of code compared to other programming languages."
   ]
  },
  {
   "cell_type": "code",
   "execution_count": 14,
   "id": "6edb364a-75f2-4e5f-aa57-ec64c575e94a",
   "metadata": {},
   "outputs": [
    {
     "name": "stdin",
     "output_type": "stream",
     "text": [
      "Enter any number: 23\n"
     ]
    },
    {
     "name": "stdout",
     "output_type": "stream",
     "text": [
      "number is positive\n"
     ]
    }
   ],
   "source": [
    "#4\n",
    "a = int(input(\"Enter any number:\"))\n",
    "if a == 0:\n",
    "    print(\"number is 0\")\n",
    "elif(a<0):\n",
    "    print(\"number is negative\")\n",
    "else:\n",
    "    print(\"number is positive\")\n"
   ]
  },
  {
   "cell_type": "code",
   "execution_count": 50,
   "id": "76e673de-5678-4841-a3a3-949cbedda092",
   "metadata": {},
   "outputs": [
    {
     "name": "stdin",
     "output_type": "stream",
     "text": [
      "Enter any number: 3\n"
     ]
    },
    {
     "name": "stdout",
     "output_type": "stream",
     "text": [
      "The factorial of given number is : 1\n",
      "The factorial of given number is : 2\n",
      "The factorial of given number is : 6\n"
     ]
    }
   ],
   "source": [
    "#5\n",
    "a = int(input(\"Enter any number:\"))\n",
    "fac = 1\n",
    "\n",
    "for i in range(1,a+1):\n",
    "    fac = fac*i\n",
    "    print(\"The factorial of given number is :\",fac)\n",
    "        \n",
    "            \n",
    "            \n",
    "    "
   ]
  },
  {
   "cell_type": "code",
   "execution_count": 74,
   "id": "1acc94a4-4a0e-405d-887f-4f7c88e072be",
   "metadata": {},
   "outputs": [
    {
     "name": "stdin",
     "output_type": "stream",
     "text": [
      "Enter any number: 5\n"
     ]
    },
    {
     "name": "stdout",
     "output_type": "stream",
     "text": [
      "0\n",
      "1\n",
      "1\n",
      "2\n",
      "3\n"
     ]
    }
   ],
   "source": [
    "#6\n",
    "a = int(input(\"Enter any number:\"))\n",
    "b = 0\n",
    "c = 1\n",
    "if (a > 1):\n",
    "    print(b)\n",
    "    print(c)\n",
    "\n",
    "if (a == 1):\n",
    "    print(b)\n",
    "else:\n",
    "    for i in range (2,a):\n",
    "        d = b+c\n",
    "        b = c\n",
    "        c = d\n",
    "        print(d)\n",
    "\n"
   ]
  },
  {
   "cell_type": "code",
   "execution_count": null,
   "id": "1e431ac9-c148-4771-9979-7dbf7c67ba48",
   "metadata": {},
   "outputs": [],
   "source": [
    "#7\n",
    "#Memory in Python is managed through a private heap, automatic memory management, \n",
    "reference counting, and garbage collection.\n",
    "#The gc module allows interaction with the garbage collection process.\n",
    "#Python’s memory management techniques help ensure efficient use of memory while also \n",
    "posing some challenges, such as memory leaks and overhead.\n",
    "\n",
    "\n",
    "\n",
    "\n",
    "\n",
    "\n"
   ]
  },
  {
   "cell_type": "code",
   "execution_count": 106,
   "id": "5c9be9f0-ecdd-4cd7-ab04-510c4a4f70fb",
   "metadata": {},
   "outputs": [
    {
     "name": "stdout",
     "output_type": "stream",
     "text": [
      "1\n",
      "3\n",
      "5\n",
      "7\n",
      "9\n"
     ]
    }
   ],
   "source": [
    "#8 - theory\n",
    "\n",
    "#The continue statement is a control flow statement that allows you to skip the current \n",
    "#iteration of a loop and continue with the next iteration. It is particularly useful for \n",
    "#conditionally bypassing parts of the loop body without terminating the entire loop.\n",
    "\n",
    "for num in range(1, 11):  \n",
    "    if num % 2 == 0:      \n",
    "        continue           \n",
    "    print(num)           \n",
    "\n",
    "\n"
   ]
  },
  {
   "cell_type": "code",
   "execution_count": 82,
   "id": "143f110c-a8b9-4020-9b92-7109fe6fdffb",
   "metadata": {},
   "outputs": [
    {
     "name": "stdout",
     "output_type": "stream",
     "text": [
      "13\n",
      "14\n",
      "13\n",
      "13\n",
      "12\n"
     ]
    }
   ],
   "source": [
    "#9  [i]with temp variable\n",
    "a = 13\n",
    "b = 14\n",
    "\n",
    "temp = a\n",
    "print(temp)\n",
    "a = b\n",
    "print(a)\n",
    "b = temp\n",
    "print(b)\n",
    "\n",
    "#[ii] without temp\n",
    "\n",
    "x = 12\n",
    "y = 13\n",
    "\n",
    "x,y = y,x\n",
    "print (x)\n",
    "print (y)\n",
    "\n"
   ]
  },
  {
   "cell_type": "code",
   "execution_count": 94,
   "id": "4f9c5063-1c63-4a9a-8666-d67528593f0e",
   "metadata": {},
   "outputs": [
    {
     "name": "stdin",
     "output_type": "stream",
     "text": [
      "Enter any number: 3\n"
     ]
    },
    {
     "name": "stdout",
     "output_type": "stream",
     "text": [
      "The number is odd:\n"
     ]
    }
   ],
   "source": [
    "#10\n",
    "num = int(input(\"Enter any number:\"))\n",
    "if (num%2 == 0):\n",
    "    print(\"The number is even:\")\n",
    "else:\n",
    "    print(\"The number is odd:\")\n"
   ]
  },
  {
   "cell_type": "code",
   "execution_count": 118,
   "id": "5cd9f091-7727-4626-b715-ee41511a9db3",
   "metadata": {
    "scrolled": true
   },
   "outputs": [
    {
     "name": "stdin",
     "output_type": "stream",
     "text": [
      "Enter any letter: l\n"
     ]
    },
    {
     "name": "stdout",
     "output_type": "stream",
     "text": [
      "the letter is not vowel\n"
     ]
    }
   ],
   "source": [
    "#11\n",
    "ab = input(\"Enter any letter:\")\n",
    "if ab in \"aeiouAEIOU\":\n",
    "    print(\"The letter is vowel:\")\n",
    "else:\n",
    "    print(\"the letter is not vowel\")\n",
    "  \n"
   ]
  },
  {
   "cell_type": "code",
   "execution_count": 130,
   "id": "83428776-fdd6-4e77-a7a3-e439c54a8a09",
   "metadata": {},
   "outputs": [
    {
     "name": "stdin",
     "output_type": "stream",
     "text": [
      "Enter 1 number: 2\n",
      "Enter 2 number: 2\n",
      "Enter 3 number: 3\n"
     ]
    },
    {
     "name": "stdout",
     "output_type": "stream",
     "text": [
      "the value is 0\n"
     ]
    }
   ],
   "source": [
    "#`12\n",
    "a = int(input(\"Enter 1 number:\"))\n",
    "b = int(input(\"Enter 2 number:\"))\n",
    "c = int(input(\"Enter 3 number:\"))\n",
    "\n",
    "if(a==b or a==c or b==c):\n",
    "    print(\"the value is 0\")\n",
    "else:\n",
    "    sum = a + b + c\n",
    "    print(sum)\n",
    "\n",
    "\n",
    "  "
   ]
  },
  {
   "cell_type": "code",
   "execution_count": 140,
   "id": "3910092c-78d6-4f8e-b4c5-620ef4bf4869",
   "metadata": {},
   "outputs": [
    {
     "name": "stdin",
     "output_type": "stream",
     "text": [
      "Enter 1 number: 6\n",
      "Enter 2 number: 7\n"
     ]
    },
    {
     "name": "stdout",
     "output_type": "stream",
     "text": [
      "False\n"
     ]
    }
   ],
   "source": [
    "#13\n",
    "a = int(input(\"Enter 1 number:\"))\n",
    "b = int(input(\"Enter 2 number:\"))\n",
    "\n",
    "if (a == b or a+b == 5 or a-b == 5):\n",
    "    print(\"True\")\n",
    "else:\n",
    "    print(\"False\")"
   ]
  },
  {
   "cell_type": "code",
   "execution_count": 148,
   "id": "b2cb5335-7770-4944-9e53-9363c90c137c",
   "metadata": {},
   "outputs": [
    {
     "name": "stdin",
     "output_type": "stream",
     "text": [
      "Enter 1 number: 5\n"
     ]
    },
    {
     "name": "stdout",
     "output_type": "stream",
     "text": [
      "15.0\n"
     ]
    }
   ],
   "source": [
    "#14\n",
    "n = int(input(\"Enter 1 number:\"))\n",
    "sum = (n * (n+1))/2\n",
    "print(sum)"
   ]
  },
  {
   "cell_type": "code",
   "execution_count": 152,
   "id": "daba3f5c-0ca5-410b-be72-600a1ba2f3d9",
   "metadata": {},
   "outputs": [
    {
     "name": "stdin",
     "output_type": "stream",
     "text": [
      "Enter any string I am groot\n"
     ]
    },
    {
     "name": "stdout",
     "output_type": "stream",
     "text": [
      "10\n"
     ]
    }
   ],
   "source": [
    "#15\n",
    "str = input(\"Enter any string\")\n",
    "print(len(str))\n"
   ]
  },
  {
   "cell_type": "code",
   "execution_count": 156,
   "id": "6b47de1c-42ef-418c-aabf-1c0c2e59f2dc",
   "metadata": {},
   "outputs": [
    {
     "name": "stdin",
     "output_type": "stream",
     "text": [
      "Enter any string: enter any string\n"
     ]
    },
    {
     "name": "stdout",
     "output_type": "stream",
     "text": [
      "3\n"
     ]
    }
   ],
   "source": [
    "#16\n",
    "str = input(\"Enter any string:\")\n",
    "a = str.count(\"n\")\n",
    "print(a)"
   ]
  },
  {
   "cell_type": "code",
   "execution_count": 104,
   "id": "211ebf37-7e9d-44e2-a362-65a305a9c1e2",
   "metadata": {},
   "outputs": [
    {
     "name": "stdout",
     "output_type": "stream",
     "text": [
      "50\n",
      "40\n",
      "30\n"
     ]
    }
   ],
   "source": [
    "#17 - theory\n",
    "\n",
    "#Negative indexes in Python allow for accessing elements from the end of sequences, \n",
    "#making it easier to retrieve the last items without needing to calculate their positive \n",
    "#index positions. They enhance convenience and readability in code when working with\n",
    "#sequences of variable lengths.\n",
    "\n",
    "my_list = [10, 20, 30, 40, 50]\n",
    "\n",
    "print(my_list[-1])  # Output: 50 (last element)\n",
    "print(my_list[-2])  # Output: 40 (second-to-last element)\n",
    "print(my_list[-3])  # Output: 30\n"
   ]
  },
  {
   "cell_type": "code",
   "execution_count": 158,
   "id": "e279eafd-baac-4ac7-a2fb-30465fd7f526",
   "metadata": {},
   "outputs": [
    {
     "name": "stdin",
     "output_type": "stream",
     "text": [
      "Enter any string: enter substring \n",
      "Enter any string: ring\n"
     ]
    },
    {
     "name": "stdout",
     "output_type": "stream",
     "text": [
      "1\n"
     ]
    }
   ],
   "source": [
    "#18\n",
    "str = input(\"Enter any string:\")\n",
    "substr = input(\"Enter any string:\")\n",
    "\n",
    "occurance = str.count(substr)\n",
    "print(occurance)\n"
   ]
  },
  {
   "cell_type": "code",
   "execution_count": 162,
   "id": "8ef52613-74c7-49c1-b4d0-3da6d881f1d5",
   "metadata": {},
   "outputs": [
    {
     "name": "stdin",
     "output_type": "stream",
     "text": [
      "Enter any string: apple apppple apple\n"
     ]
    },
    {
     "name": "stdout",
     "output_type": "stream",
     "text": [
      "2\n"
     ]
    }
   ],
   "source": [
    "#19\n",
    "str = input(\"Enter any string:\")\n",
    "a = str.count(\"apple\")\n",
    "print(a)"
   ]
  },
  {
   "cell_type": "code",
   "execution_count": 176,
   "id": "3638207c-4c94-41a5-823f-e656184e2550",
   "metadata": {},
   "outputs": [
    {
     "name": "stdout",
     "output_type": "stream",
     "text": [
      "apple banana\n",
      "bpple  aanana\n"
     ]
    }
   ],
   "source": [
    "#20\n",
    "a = \"apple\"\n",
    "b = \"banana\"\n",
    "print( a  + \" \" + b)\n",
    "c = b[0]+a[1:] + \"  \" + a[0]+b[1:]\n",
    "print(c)\n"
   ]
  },
  {
   "cell_type": "code",
   "execution_count": 16,
   "id": "cfb32381-a5ec-4653-9ca7-74310c9fcea5",
   "metadata": {},
   "outputs": [
    {
     "name": "stdin",
     "output_type": "stream",
     "text": [
      "Enter your string play\n"
     ]
    },
    {
     "name": "stdout",
     "output_type": "stream",
     "text": [
      "playin\n"
     ]
    }
   ],
   "source": [
    "#21\n",
    "input_string = input(\"Enter your string\") \n",
    "    \n",
    "if len(input_string) < 3:\n",
    "    print(input_string)\n",
    "elif input_string.endswith('ing'):\n",
    "    print(input_string + 'ly')\n",
    "else:\n",
    "    print(input_string + 'in')\n",
    "\n"
   ]
  },
  {
   "cell_type": "code",
   "execution_count": 22,
   "id": "15ab9104-6e62-441c-8c39-013af801b09e",
   "metadata": {},
   "outputs": [
    {
     "name": "stdin",
     "output_type": "stream",
     "text": [
      "Enter your string: smitshah\n"
     ]
    },
    {
     "name": "stdout",
     "output_type": "stream",
     "text": [
      "hahstims\n"
     ]
    }
   ],
   "source": [
    "#22\n",
    "str = input(\"Enter your string:\")\n",
    "if len(str) %4 == 0 :\n",
    "    print(str[::-1])"
   ]
  },
  {
   "cell_type": "code",
   "execution_count": 24,
   "id": "8906fc08-c11f-47ed-9cf2-8e1c0d9247d5",
   "metadata": {},
   "outputs": [
    {
     "name": "stdin",
     "output_type": "stream",
     "text": [
      "string: smit shah\n"
     ]
    },
    {
     "name": "stdout",
     "output_type": "stream",
     "text": [
      "Modified string is: smah\n"
     ]
    }
   ],
   "source": [
    "#23\n",
    "str = input(\"string:\")\n",
    "if len(str)<2:\n",
    "    print(\" \")\n",
    "else:\n",
    "    print(\"Modified string is:\",str[:2]+str[-2:])"
   ]
  },
  {
   "cell_type": "code",
   "execution_count": 28,
   "id": "34b7d8cc-3a16-40b6-8466-f9a762c24f67",
   "metadata": {},
   "outputs": [
    {
     "name": "stdout",
     "output_type": "stream",
     "text": [
      "hello Python world\n"
     ]
    }
   ],
   "source": [
    "#24\n",
    "def insert_string_middle(main_string, insert_string):\n",
    "    \n",
    "    middle_index = len(main_string) // 2\n",
    "    \n",
    "  \n",
    "    return main_string[:middle_index] + insert_string + main_string[middle_index:]\n",
    "\n",
    "\n",
    "main_string = \"hello world\"\n",
    "insert_string = \" Python\"\n",
    "\n",
    "result = insert_string_middle(main_string, insert_string)\n",
    "print(result)  \n"
   ]
  },
  {
   "cell_type": "code",
   "execution_count": 100,
   "id": "7ac02718-c4ad-4549-91b9-2474c3e6480d",
   "metadata": {},
   "outputs": [
    {
     "name": "stdout",
     "output_type": "stream",
     "text": [
      "[4.5, 'apple', 3, 2, 1]\n"
     ]
    }
   ],
   "source": [
    "#25\n",
    "# A list is an ordered, mutable collection of items in Python.\n",
    "\n",
    "my_list = [1, 2, 3, 'apple', 4.5] #way to reverse string:\n",
    "my_list.reverse()\n",
    "print(my_list) "
   ]
  },
  {
   "cell_type": "code",
   "execution_count": 98,
   "id": "c2f8e175-ece3-4b4d-b560-7b9bace3d477",
   "metadata": {},
   "outputs": [
    {
     "name": "stdout",
     "output_type": "stream",
     "text": [
      "5\n",
      "[1, 2, 3, 4]\n",
      "[1, 2, 3, 4]\n"
     ]
    }
   ],
   "source": [
    "#26 - 1.using pop()\n",
    "my_list = [1, 2, 3, 4, 5]\n",
    "\n",
    "last_element = my_list.pop()\n",
    "print(last_element)  \n",
    "print(my_list)       \n",
    " # 2. del()\n",
    "my_list = [1, 2, 3, 4, 5]\n",
    "\n",
    "del my_list[-1]\n",
    "print(my_list)  # Output: [1, 2, 3, 4]\n"
   ]
  },
  {
   "cell_type": "code",
   "execution_count": 30,
   "id": "bc3273e0-4ed1-4e34-a2c9-20f716f018cb",
   "metadata": {},
   "outputs": [
    {
     "name": "stdout",
     "output_type": "stream",
     "text": [
      "25\n"
     ]
    }
   ],
   "source": [
    "#27\n",
    "list1 = [2, 33, 222, 14, 25]\n",
    "print(list1[-1])  \n",
    "\n",
    "# - 1 referes to the last element of the string"
   ]
  },
  {
   "cell_type": "code",
   "execution_count": null,
   "id": "42571981-068b-4b18-921f-1a582f52746f",
   "metadata": {},
   "outputs": [],
   "source": [
    "#28 - theory\n",
    "\n",
    "#Use append() when you want to add a single element to a list.\n",
    "\n",
    "#Use extend() when you want to concatenate another iterable to the end of a list.\n",
    "\n",
    "\n",
    "\n",
    "\n",
    "\n"
   ]
  },
  {
   "cell_type": "code",
   "execution_count": 36,
   "id": "6fdd0336-6c50-4336-bdd9-986771c4e9fe",
   "metadata": {},
   "outputs": [
    {
     "name": "stdout",
     "output_type": "stream",
     "text": [
      "Minimum element in List: 2\n",
      "Maximum element in List: 13\n",
      "sum  of all element in List: 43\n"
     ]
    }
   ],
   "source": [
    "#29\n",
    "list = [2,4,6,8,10,13]\n",
    "print(\"Minimum element in List:\",min(list))\n",
    "print(\"Maximum element in List:\",max(list))\n",
    "print(\"sum  of all element in List:\",sum(list))"
   ]
  },
  {
   "cell_type": "code",
   "execution_count": null,
   "id": "2526f34a-e939-476c-b018-56d2e2ecc51a",
   "metadata": {},
   "outputs": [],
   "source": [
    "#30 -theory\n",
    "#Use == for direct comparison of lists.\n",
    "#Use len() to check if they have the same number of elements.\n",
    "#Use loops or list comprehensions for detailed comparisons.\n",
    "#Convert to set for unordered comparisons.\n",
    "#Use collections.Counter for frequency-based comparisons when duplicates are involved.\n",
    "Each method serves different comparison needs depending on your requirements.\n"
   ]
  },
  {
   "cell_type": "code",
   "execution_count": 42,
   "id": "3d1a33fc-6502-49bd-94e6-6fc4ec17da96",
   "metadata": {},
   "outputs": [
    {
     "name": "stdout",
     "output_type": "stream",
     "text": [
      "aba\n",
      "bcb\n",
      "2\n"
     ]
    }
   ],
   "source": [
    "#31\n",
    "s = 0 \n",
    "list = [\"aba\",\"rcb\",\"bcb\",\"abc\"]\n",
    "for x in list:\n",
    "    if len(x)>1 and x[0] == x[-1]:\n",
    "        print(x)\n",
    "        s=s+1\n",
    "print(s)"
   ]
  },
  {
   "cell_type": "code",
   "execution_count": 56,
   "id": "02acff2f-f7e8-4320-b379-612205e74746",
   "metadata": {},
   "outputs": [
    {
     "name": "stdout",
     "output_type": "stream",
     "text": [
      "[2, 3, 5, 6, 7, 8]\n"
     ]
    }
   ],
   "source": [
    "#32\n",
    "def remove_duplicates(input_list):\n",
    "   \n",
    "    seen = set()\n",
    "    result = []\n",
    "    \n",
    "    \n",
    "    for item in input_list:\n",
    "        if item not in seen:\n",
    "            result.append(item)\n",
    "            seen.add(item)\n",
    "    \n",
    "    return result\n",
    "\n",
    "\n",
    "input_list = [2, 3, 5, 2, 6, 3, 7, 5, 8]\n",
    "unique_list = remove_duplicates(input_list)\n",
    "print(unique_list)  "
   ]
  },
  {
   "cell_type": "code",
   "execution_count": 76,
   "id": "5833937b-d820-41ad-af08-9d11e6240d89",
   "metadata": {},
   "outputs": [
    {
     "name": "stdout",
     "output_type": "stream",
     "text": [
      "list is empty:\n"
     ]
    }
   ],
   "source": [
    "#33\n",
    "l=[]\n",
    "if not l :\n",
    "    print(\"list is empty:\")\n",
    "else:\n",
    "    print(\"list have elements:\")\n",
    "    "
   ]
  },
  {
   "cell_type": "code",
   "execution_count": 94,
   "id": "a6ea163a-7d31-42e5-9ef5-9395568ce409",
   "metadata": {},
   "outputs": [
    {
     "name": "stdout",
     "output_type": "stream",
     "text": [
      "True\n"
     ]
    }
   ],
   "source": [
    "#34\n",
    "def has_common_member(list1, list2):\n",
    "   \n",
    "    return any(item in list1 for item in list2)\n",
    "\n",
    "\n",
    "list1 = [1, 2, 3, 4]\n",
    "list2 = [4, 5, 6, 7]\n",
    "print(has_common_member(list1, list2))  \n"
   ]
  },
  {
   "cell_type": "code",
   "execution_count": 106,
   "id": "a7655f41-33c0-4a3f-b427-a319c7d517ee",
   "metadata": {},
   "outputs": [
    {
     "name": "stdout",
     "output_type": "stream",
     "text": [
      "First 5 elements: [1, 4, 9, 16, 25]\n",
      "Last 5 elements: [676, 729, 784, 841, 900]\n"
     ]
    }
   ],
   "source": [
    "#35\n",
    "def generate():\n",
    "    \n",
    "    squares = [x**2 for x in range(1, 31)]\n",
    "    \n",
    "    \n",
    "    first_five = squares[:5]\n",
    "    last_five = squares[-5:]\n",
    "    \n",
    "   \n",
    "    print(\"First 5 elements:\", first_five)\n",
    "    print(\"Last 5 elements:\", last_five)\n",
    "\n",
    "\n",
    "generate()\n"
   ]
  },
  {
   "cell_type": "code",
   "execution_count": 102,
   "id": "af795c34-d49a-45a6-a2b8-30d10da377ad",
   "metadata": {},
   "outputs": [
    {
     "name": "stdout",
     "output_type": "stream",
     "text": [
      "[1, 2, 3, 4, 5, 6]\n"
     ]
    }
   ],
   "source": [
    "#36\n",
    "def unique_elements(input_list):\n",
    "   \n",
    "    seen = set()\n",
    "    unique_list = [x for x in input_list if x not in seen and not seen.add(x)]\n",
    "    return unique_list\n",
    "\n",
    "\n",
    "input_list = [1, 2, 2, 3, 4, 4, 5, 6, 6]\n",
    "print(unique_elements(input_list))  "
   ]
  },
  {
   "cell_type": "code",
   "execution_count": 108,
   "id": "acff8d1b-a6d1-4ea0-bbab-0b6dd74a429e",
   "metadata": {},
   "outputs": [
    {
     "name": "stdout",
     "output_type": "stream",
     "text": [
      "smit shah\n",
      "<class 'str'>\n"
     ]
    }
   ],
   "source": [
    "#37\n",
    "s = [ \"smit\",\" \",\"shah\"]\n",
    "str1 = \"\".join(s)\n",
    "print(str1)\n",
    "print(type(str1))"
   ]
  },
  {
   "cell_type": "code",
   "execution_count": 118,
   "id": "581bdce3-6bd4-4847-94ec-f656d2be546a",
   "metadata": {},
   "outputs": [
    {
     "name": "stdout",
     "output_type": "stream",
     "text": [
      "80\n"
     ]
    }
   ],
   "source": [
    "#38\n",
    "import random\n",
    "\n",
    "items = [10,20,30,40,50,70,60,80,200,100,150,250,650]\n",
    "\n",
    "random_ele= random.choice(items)\n",
    "print(random_ele)\n"
   ]
  },
  {
   "cell_type": "code",
   "execution_count": 140,
   "id": "d2fc39fe-db07-4ca4-98c6-68d6b069b9ab",
   "metadata": {},
   "outputs": [
    {
     "name": "stdout",
     "output_type": "stream",
     "text": [
      "The second smallest number is: 2\n"
     ]
    }
   ],
   "source": [
    "#39\n",
    "\n",
    "\n",
    "numbers = [12, 3, 5, 7, 19, 2, 0]\n",
    "\n",
    "\n",
    "smallest = float('inf')\n",
    "second_smallest = float('inf')\n",
    "\n",
    "\n",
    "for num in numbers:\n",
    "    if num < smallest:\n",
    "        second_smallest = smallest \n",
    "        smallest = num  \n",
    "    elif smallest < num < second_smallest:\n",
    "        second_smallest = num  \n",
    "\n",
    "\n",
    "if second_smallest != float('inf'):\n",
    "    print(\"The second smallest number is:\", second_smallest)\n",
    "else:\n",
    "    print(\"There is no second smallest number.\")\n",
    "\n",
    "\n",
    "\n",
    "\n",
    "\n",
    "\n",
    "\n"
   ]
  },
  {
   "cell_type": "code",
   "execution_count": 142,
   "id": "486c3c60-65b4-4e85-9ea6-4aca94dce696",
   "metadata": {},
   "outputs": [
    {
     "name": "stdout",
     "output_type": "stream",
     "text": [
      "Unique values: [1, 2, 3, 4, 5, 6, 7]\n"
     ]
    }
   ],
   "source": [
    "#40\n",
    "\n",
    "values = [1, 2, 2, 3, 4, 4, 5, 6, 6, 7]\n",
    "\n",
    "\n",
    "unique_values = []\n",
    "\n",
    "\n",
    "for value in values:\n",
    "    if value not in unique_values:\n",
    "        unique_values.append(value)\n",
    "\n",
    "\n",
    "print(\"Unique values:\", unique_values)\n"
   ]
  },
  {
   "cell_type": "code",
   "execution_count": 20,
   "id": "da39f97f-6bd5-4de8-b7b6-19785f904901",
   "metadata": {},
   "outputs": [
    {
     "name": "stdout",
     "output_type": "stream",
     "text": [
      "The main list contains the sub list.\n"
     ]
    }
   ],
   "source": [
    "#41\n",
    "\n",
    "main_list = [1, 2, 3, 4, 5, 6]\n",
    "sub_list = [3, 4, 5]\n",
    "\n",
    "if str(sub_list)[1:-1] in str(main_list):\n",
    "    print(\"The main list contains the sub list.\")\n",
    "else:\n",
    "    print(\"The main list does not contain the sub list.\")\n"
   ]
  },
  {
   "cell_type": "code",
   "execution_count": 22,
   "id": "411cba2d-6c9b-44ee-8e07-0883ade69528",
   "metadata": {},
   "outputs": [
    {
     "name": "stdout",
     "output_type": "stream",
     "text": [
      "1\n",
      "2\n",
      "3\n",
      "4\n",
      "5\n"
     ]
    }
   ],
   "source": [
    "#42\n",
    "my_list = [1, 2, 3, 4, 5]\n",
    "a, b, c, d, e = my_list\n",
    "print(a)\n",
    "print(b)\n",
    "print(c)\n",
    "print(d)\n",
    "print(e)\n"
   ]
  },
  {
   "cell_type": "code",
   "execution_count": null,
   "id": "a496f66c-ba5d-4c8a-8dd2-6d6ed3e911d4",
   "metadata": {},
   "outputs": [],
   "source": [
    "#43 - theory\n",
    "#A tuple is a collection data type that is immutable and defined using parentheses.\n",
    "\n",
    "#The key differences between a list and a tuple are mutability, syntax, performance, \n",
    "and available methods. Lists are mutable and suitable for collections that may change,\n",
    "while tuples are immutable and suitable for fixed collections of item\n"
   ]
  },
  {
   "cell_type": "code",
   "execution_count": 28,
   "id": "1e87cd4a-3728-4111-8b94-182d278fa005",
   "metadata": {},
   "outputs": [
    {
     "name": "stdout",
     "output_type": "stream",
     "text": [
      "(1, 'Hello', 3.14, [1, 2, 3], (5, 6), {'key': 'value'})\n"
     ]
    }
   ],
   "source": [
    "#44\n",
    "\n",
    "my_tuple = (1, \"Hello\", 3.14, [1, 2, 3], (5, 6), {'key': 'value'})\n",
    "print(my_tuple)\n"
   ]
  },
  {
   "cell_type": "code",
   "execution_count": 30,
   "id": "53bd0dd3-43bd-4a51-afde-1745abc83e47",
   "metadata": {},
   "outputs": [
    {
     "name": "stdout",
     "output_type": "stream",
     "text": [
      "[1, 2, 3, 4]\n",
      "['a', 'b', 'c', 'd']\n"
     ]
    }
   ],
   "source": [
    "#45\n",
    "\n",
    "tuples_list = [(1, 'a'), (2, 'b'), (3, 'c'), (4, 'd')]\n",
    "\n",
    "list1, list2 = zip(*tuples_list)\n",
    "\n",
    "list1 = list(list1)\n",
    "list2 = list(list2)\n",
    "\n",
    "print(list1)\n",
    "print(list2)\n"
   ]
  },
  {
   "cell_type": "code",
   "execution_count": 32,
   "id": "099e4605-93bc-46b8-9373-7303e0b353a3",
   "metadata": {},
   "outputs": [
    {
     "name": "stdout",
     "output_type": "stream",
     "text": [
      "{1: 'a', 2: 'b', 3: 'c', 4: 'd'}\n"
     ]
    }
   ],
   "source": [
    "#46\n",
    "\n",
    "tuples_list = [(1, 'a'), (2, 'b'), (3, 'c'), (4, 'd')]\n",
    "\n",
    "my_dict = dict(tuples_list)\n",
    "\n",
    "print(my_dict)\n"
   ]
  },
  {
   "cell_type": "code",
   "execution_count": 34,
   "id": "4d8dc247-9eab-405e-8d1e-5c67229f5279",
   "metadata": {},
   "outputs": [
    {
     "name": "stdout",
     "output_type": "stream",
     "text": [
      "{1: 'a', 2: 'b', 3: 'c', 4: 'd'}\n"
     ]
    }
   ],
   "source": [
    "#47\n",
    "tuples_list = [(1, 'a'), (2, 'b'), (3, 'c'), (4, 'd')]\n",
    "\n",
    "my_dict = dict(tuples_list)\n",
    "\n",
    "print(my_dict)\n"
   ]
  },
  {
   "cell_type": "code",
   "execution_count": 36,
   "id": "c5b2cd2c-894b-405b-b44c-6583b31733c3",
   "metadata": {},
   "outputs": [
    {
     "name": "stdout",
     "output_type": "stream",
     "text": [
      "Ascending: {'banana': 2, 'date': 3, 'apple': 5, 'cherry': 7}\n",
      "Descending: {'cherry': 7, 'apple': 5, 'date': 3, 'banana': 2}\n"
     ]
    }
   ],
   "source": [
    "#48\n",
    "\n",
    "my_dict = {'apple': 5, 'banana': 2, 'cherry': 7, 'date': 3}\n",
    "\n",
    "dict1 = dict(sorted(my_dict.items(), key=lambda item: item[1]))\n",
    "\n",
    "dict2 = dict(sorted(my_dict.items(), key=lambda item: item[1], reverse=True))\n",
    "\n",
    "print(\"Ascending:\", dict1)\n",
    "print(\"Descending:\", dict2)\n"
   ]
  },
  {
   "cell_type": "code",
   "execution_count": 38,
   "id": "f837bcf7-9045-4001-93f7-7f3ac51a40e1",
   "metadata": {},
   "outputs": [
    {
     "name": "stdout",
     "output_type": "stream",
     "text": [
      "{'a': 1, 'b': 2, 'c': 3, 'd': 4, 'e': 5, 'f': 6}\n"
     ]
    }
   ],
   "source": [
    "#49\n",
    "\n",
    "dict1 = {'a': 1, 'b': 2}\n",
    "dict2 = {'c': 3, 'd': 4}\n",
    "dict3 = {'e': 5, 'f': 6}\n",
    "\n",
    "new_dict = {**dict1, **dict2, **dict3}\n",
    "\n",
    "print(new_dict)\n"
   ]
  },
  {
   "cell_type": "code",
   "execution_count": 42,
   "id": "ca23e19e-d484-4ff2-b620-8d5b3a40a642",
   "metadata": {},
   "outputs": [
    {
     "name": "stdout",
     "output_type": "stream",
     "text": [
      "The key 'banana' exists in the dictionary.\n"
     ]
    }
   ],
   "source": [
    "#50\n",
    "\n",
    "my_dict = {'apple': 5, 'banana': 2, 'cherry': 7}\n",
    "\n",
    "check = 'banana'\n",
    "\n",
    "if key_to_check in my_dict:\n",
    "    print(f\"The key '{check}' exists in the dictionary.\")\n",
    "else:\n",
    "    print(f\"The key '{check}' does not exist in the dictionary.\")\n"
   ]
  },
  {
   "cell_type": "code",
   "execution_count": null,
   "id": "e4132a6b-58d9-4a72-bdbf-38b6100680ca",
   "metadata": {},
   "outputs": [],
   "source": [
    "#51 - theory\n",
    "#You can traverse through a dictionary in Python using a for loop directly on the \n",
    "dictionary, or by using methods like .keys(), .values(), or .items().\n",
    "#Each method provides a way to access either keys, values, or both, making it easy \n",
    "to work with dictionary data in various contexts."
   ]
  },
  {
   "cell_type": "code",
   "execution_count": null,
   "id": "17d57ea4-ba98-494a-a6a2-566ef20a3c9c",
   "metadata": {},
   "outputs": [],
   "source": [
    "#52 - theory\n",
    "#The most common and efficient method is using the in operator, which checks for the \n",
    "key directly.\n",
    "#The .get() method is useful if you also want to retrieve the value while checking for\n",
    "the key's existence.\n",
    "#Using .keys() is generally less preferred due to inefficiency and unnecessary overhead."
   ]
  },
  {
   "cell_type": "code",
   "execution_count": 44,
   "id": "805c380f-f588-4e8b-bf15-aaed196f34ad",
   "metadata": {},
   "outputs": [
    {
     "name": "stdout",
     "output_type": "stream",
     "text": [
      "{1: 1, 2: 4, 3: 9, 4: 16, 5: 25, 6: 36, 7: 49, 8: 64, 9: 81, 10: 100, 11: 121, 12: 144, 13: 169, 14: 196, 15: 225}\n"
     ]
    }
   ],
   "source": [
    "#53\n",
    "\n",
    "my_dict = {i: i**2 for i in range(1, 16)}\n",
    "\n",
    "print(my_dict)\n"
   ]
  },
  {
   "cell_type": "code",
   "execution_count": 46,
   "id": "c4ff8666-ef16-4810-bce5-3915cedf4ceb",
   "metadata": {},
   "outputs": [
    {
     "name": "stdout",
     "output_type": "stream",
     "text": [
      "Not all keys exist in the dictionary.\n",
      "At least one of the keys exists in the dictionary.\n"
     ]
    }
   ],
   "source": [
    "#54\n",
    "\n",
    "my_dict = {'apple': 5, 'banana': 2, 'cherry': 7, 'date': 3}\n",
    "\n",
    "keys_to_check = ['banana', 'date', 'fig']\n",
    "\n",
    "all_exist = all(key in my_dict for key in keys_to_check)\n",
    "\n",
    "any_exist = any(key in my_dict for key in keys_to_check)\n",
    "\n",
    "if all_exist:\n",
    "    print(\"All keys exist in the dictionary.\")\n",
    "else:\n",
    "    print(\"Not all keys exist in the dictionary.\")\n",
    "\n",
    "if any_exist:\n",
    "    print(\"At least one of the keys exists in the dictionary.\")\n",
    "else:\n",
    "    print(\"None of the keys exist in the dictionary.\")\n",
    "\n"
   ]
  },
  {
   "cell_type": "code",
   "execution_count": 48,
   "id": "42487101-d7e0-4455-91fc-c896e223b0fe",
   "metadata": {},
   "outputs": [
    {
     "name": "stdout",
     "output_type": "stream",
     "text": [
      "{'a': 1, 'b': 3, 'c': 4}\n"
     ]
    }
   ],
   "source": [
    "#55\n",
    "\n",
    "dict1 = {'a': 1, 'b': 2}\n",
    "dict2 = {'b': 3, 'c': 4}\n",
    "\n",
    "merged_dict = {**dict1, **dict2}\n",
    "\n",
    "print(merged_dict)\n"
   ]
  },
  {
   "cell_type": "code",
   "execution_count": 50,
   "id": "2d4cdb43-2864-4985-92ed-a2809fe519b9",
   "metadata": {},
   "outputs": [
    {
     "name": "stdout",
     "output_type": "stream",
     "text": [
      "Counter({'a': 400, 'b': 400, 'd': 400, 'c': 300})\n"
     ]
    }
   ],
   "source": [
    "#56\n",
    "from collections import Counter\n",
    "\n",
    "keys = ['a', 'b', 'c', 'd']\n",
    "values = [400, 400, 300, 400]\n",
    "\n",
    "result_dict = dict(zip(keys, values))\n",
    "\n",
    "counter_result = Counter(result_dict)\n",
    "\n",
    "print(counter_result)\n"
   ]
  },
  {
   "cell_type": "code",
   "execution_count": 52,
   "id": "988a998b-a980-4f40-9781-35cc8a073f8a",
   "metadata": {},
   "outputs": [
    {
     "name": "stdout",
     "output_type": "stream",
     "text": [
      "The highest 3 values in the dictionary are:\n",
      "{'banana': 12, 'cherry': 10, 'date': 7}\n"
     ]
    }
   ],
   "source": [
    "#57\n",
    "\n",
    "my_dict = {'apple': 5, 'banana': 12, 'cherry': 7, 'date': 10, 'fig': 3}\n",
    "\n",
    "highest_values = sorted(my_dict.values(), reverse=True)[:3]\n",
    "\n",
    "highest_keys = [key for key, value in my_dict.items() if value in highest_values]\n",
    "\n",
    "result = dict(zip(highest_keys, highest_values))\n",
    "\n",
    "print(\"The highest 3 values in the dictionary are:\")\n",
    "print(result)\n"
   ]
  },
  {
   "cell_type": "code",
   "execution_count": 54,
   "id": "a1302d00-bfa1-4009-b146-f5a2dc29163a",
   "metadata": {},
   "outputs": [
    {
     "name": "stdout",
     "output_type": "stream",
     "text": [
      "[{'item': 'item1', 'amount': 1150}, {'item': 'item2', 'amount': 300}]\n"
     ]
    }
   ],
   "source": [
    "#58\n",
    "\n",
    "data = [\n",
    "    {'item': 'item1', 'amount': 400},\n",
    "    {'item': 'item2', 'amount': 300},\n",
    "    {'item': 'item1', 'amount': 750}\n",
    "]\n",
    "\n",
    "combined_data = {}\n",
    "\n",
    "for entry in data:\n",
    "    item = entry['item']\n",
    "    amount = entry['amount']\n",
    "    \n",
    "   \n",
    "    if item in combined_data:\n",
    "        combined_data[item] += amount\n",
    "    else:\n",
    "        combined_data[item] = amount\n",
    "\n",
    "result = [{'item': item, 'amount': amount} for item, amount in combined_data.items()]\n",
    "\n",
    "print(result)\n"
   ]
  },
  {
   "cell_type": "code",
   "execution_count": 56,
   "id": "90fa64b2-c340-453a-b52c-0d21fe84ec4a",
   "metadata": {},
   "outputs": [
    {
     "name": "stdout",
     "output_type": "stream",
     "text": [
      "{'h': 1, 'e': 1, 'l': 3, 'o': 2, 'w': 1, 'r': 1, 'd': 1}\n"
     ]
    }
   ],
   "source": [
    "#59\n",
    "input_string = \"hello world\"\n",
    "\n",
    "letter_count = {}\n",
    "for letter in input_string:\n",
    "    if letter.isalpha():\n",
    "        letter_count[letter] = letter_count.get(letter, 0) + 1\n",
    "\n",
    "print(letter_count)\n",
    "\n"
   ]
  },
  {
   "cell_type": "code",
   "execution_count": 58,
   "id": "d7ad4456-047b-4119-8096-3a14dd1a79e6",
   "metadata": {},
   "outputs": [
    {
     "name": "stdout",
     "output_type": "stream",
     "text": [
      "{'w': 1, '3': 1, 'r': 2, 'e': 2, 's': 1, 'o': 1, 'u': 1, 'c': 1}\n"
     ]
    }
   ],
   "source": [
    "#60\n",
    "input_string = \"w3resource\"\n",
    "\n",
    "letter_count = {}\n",
    "for letter in input_string:\n",
    "    letter_count[letter] = letter_count.get(letter, 0) + 1\n",
    "\n",
    "print(letter_count)\n"
   ]
  },
  {
   "cell_type": "code",
   "execution_count": 60,
   "id": "938d2445-3e24-4929-9280-e8ca55bd046c",
   "metadata": {},
   "outputs": [
    {
     "name": "stdout",
     "output_type": "stream",
     "text": [
      "120\n",
      "1\n",
      "5040\n"
     ]
    }
   ],
   "source": [
    "#61\n",
    "import math\n",
    "\n",
    "def factorial(n):\n",
    "    if n < 0:\n",
    "        return \"Factorial is not defined for negative numbers.\"\n",
    "    return math.factorial(n)\n",
    "print(factorial(5)) \n",
    "print(factorial(0)) \n",
    "print(factorial(7))  \n"
   ]
  },
  {
   "cell_type": "code",
   "execution_count": 62,
   "id": "08eace4c-ca93-4689-af76-43ea3cd25358",
   "metadata": {},
   "outputs": [
    {
     "name": "stdout",
     "output_type": "stream",
     "text": [
      "True\n",
      "False\n"
     ]
    }
   ],
   "source": [
    "#62\n",
    "\n",
    "def is_in_range(num, start, end):\n",
    "    return start <= num <= end\n",
    "\n",
    "\n",
    "print(is_in_range(5, 1, 10))  \n",
    "print(is_in_range(15, 1, 10))  \n"
   ]
  },
  {
   "cell_type": "code",
   "execution_count": 64,
   "id": "418d2278-68d1-4a3b-96ba-53dd2345e7b2",
   "metadata": {},
   "outputs": [
    {
     "name": "stdout",
     "output_type": "stream",
     "text": [
      "True\n",
      "True\n",
      "False\n"
     ]
    }
   ],
   "source": [
    "#63\n",
    "def is_perfect(n):\n",
    "    if n < 1:\n",
    "        return False\n",
    "    divisors_sum = sum(i for i in range(1, n) if n % i == 0)\n",
    "    return divisors_sum == n\n",
    "print(is_perfect(6))  \n",
    "print(is_perfect(28))  \n",
    "print(is_perfect(12))  "
   ]
  },
  {
   "cell_type": "code",
   "execution_count": 66,
   "id": "b6a11ebd-a66c-4667-ac7a-ce02c5aaa320",
   "metadata": {},
   "outputs": [
    {
     "name": "stdout",
     "output_type": "stream",
     "text": [
      "True\n",
      "False\n"
     ]
    }
   ],
   "source": [
    "#64\n",
    "def is_palindrome(s):\n",
    "    s = s.lower().replace(\" \", \"\")  \n",
    "    return s == s[::-1]\n",
    "print(is_palindrome(\"A man a plan a canal Panama\")) \n",
    "print(is_palindrome(\"hello\")) \n"
   ]
  },
  {
   "cell_type": "code",
   "execution_count": null,
   "id": "1e8735c9-b232-4214-a2ed-b62376aef1cc",
   "metadata": {},
   "outputs": [],
   "source": [
    "#65\n",
    "1. built in function:\n",
    "2.user - define function:"
   ]
  },
  {
   "cell_type": "code",
   "execution_count": 70,
   "id": "7cae22c4-4590-459c-8a87-ce3a89cc6d71",
   "metadata": {},
   "outputs": [
    {
     "name": "stdout",
     "output_type": "stream",
     "text": [
      "40\n",
      "banana\n"
     ]
    }
   ],
   "source": [
    "#66\n",
    "import random\n",
    "#list\n",
    "my_list = [10, 20, 30, 40, 50]\n",
    "\n",
    "random_item = random.choice(my_list)\n",
    "print(random_item)\n",
    "\n",
    "# tuple\n",
    "my_tuple = ('apple', 'banana', 'cherry', 'date')\n",
    "\n",
    "random_item = random.choice(my_tuple)\n",
    "print(random_item)\n",
    "\n"
   ]
  },
  {
   "cell_type": "code",
   "execution_count": 68,
   "id": "171c1e42-4562-412b-a33e-6487232b4e9a",
   "metadata": {},
   "outputs": [
    {
     "name": "stdout",
     "output_type": "stream",
     "text": [
      "2\n"
     ]
    }
   ],
   "source": [
    "#67\n",
    "import random\n",
    "\n",
    "my_range = range(1, 11)  # Range from 1 to 10\n",
    "\n",
    "random_item = random.choice(my_range)\n",
    "print(random_item)\n"
   ]
  },
  {
   "cell_type": "code",
   "execution_count": 72,
   "id": "85cfad3f-7890-4d81-b0c1-c42b4ab92940",
   "metadata": {},
   "outputs": [
    {
     "name": "stdout",
     "output_type": "stream",
     "text": [
      "0.3140192461027661\n"
     ]
    }
   ],
   "source": [
    "#68\n",
    "import random\n",
    "\n",
    "random_float = random.random()\n",
    "print(random_float)\n"
   ]
  },
  {
   "cell_type": "code",
   "execution_count": 74,
   "id": "1dee6584-d546-4bd2-b798-523f2f5a2621",
   "metadata": {},
   "outputs": [
    {
     "name": "stdout",
     "output_type": "stream",
     "text": [
      "0.6394267984578837\n",
      "1\n"
     ]
    }
   ],
   "source": [
    "#69\n",
    "import random\n",
    "\n",
    "random.seed(42)\n",
    "\n",
    "print(random.random())     \n",
    "print(random.randint(1, 10))  \n"
   ]
  },
  {
   "cell_type": "code",
   "execution_count": 76,
   "id": "c93f63da-cae2-4d23-9d3b-6dd3acf632cd",
   "metadata": {},
   "outputs": [
    {
     "name": "stdout",
     "output_type": "stream",
     "text": [
      "[4, 5, 1, 2, 3]\n"
     ]
    }
   ],
   "source": [
    "#70\n",
    "import random\n",
    "\n",
    "my_list = [1, 2, 3, 4, 5]\n",
    "\n",
    "random.shuffle(my_list)\n",
    "\n",
    "print(my_list)\n"
   ]
  },
  {
   "cell_type": "code",
   "execution_count": null,
   "id": "4bd7f1f9-8fd9-4ef1-8251-b4c117240303",
   "metadata": {},
   "outputs": [],
   "source": [
    "#71 - theory\n",
    "#the file function typically refers to the built-in functions and methods used to handle\n",
    "#files. Python provides a simple and efficient way to work with files using built-in\n",
    "#functions, primarily through the open() function."
   ]
  },
  {
   "cell_type": "code",
   "execution_count": null,
   "id": "49602d79-9686-4db3-9fd8-9b39bd007f7f",
   "metadata": {},
   "outputs": [],
   "source": [
    "#72\n",
    "\n",
    "filename = 'example.txt'\n",
    "\n",
    "with open(filename, 'r') as file:\n",
    "    content = file.read()  \n",
    "\n",
    "print(content)\n"
   ]
  },
  {
   "cell_type": "code",
   "execution_count": null,
   "id": "10b0363e-e770-4c5e-afe7-0b807c7b647f",
   "metadata": {},
   "outputs": [],
   "source": [
    "#73\n",
    "\n",
    "filename = 'example.txt'\n",
    "\n",
    "text_to_append = \"This is the new text to append.\\n\"\n",
    "\n",
    "with open(filename, 'a') as file:\n",
    "    file.write(text_to_append)\n",
    "\n",
    "\n",
    "with open(filename, 'r') as file:\n",
    "    content = file.read()\n",
    "\n",
    "print(content)\n",
    "\n"
   ]
  },
  {
   "cell_type": "code",
   "execution_count": null,
   "id": "81f3b424-f1c5-47a0-89bd-945259d4f9e6",
   "metadata": {},
   "outputs": [],
   "source": [
    "#74\n",
    "\n",
    "filename = 'example.txt'\n",
    "n = 5  \n",
    "\n",
    "with open(filename, 'r') as file:\n",
    "    for _ in range(n):\n",
    "        line = file.readline()\n",
    "        if not line: \n",
    "            break\n",
    "        print(line, end='')  \n"
   ]
  },
  {
   "cell_type": "code",
   "execution_count": null,
   "id": "842868f0-9334-48de-8074-bfa8264397db",
   "metadata": {},
   "outputs": [],
   "source": [
    "#75\n",
    "\n",
    "filename = 'example.txt'\n",
    "n = 5  \n",
    "\n",
    "with open(filename, 'r') as file:\n",
    "    lines = file.readlines() \n",
    "\n",
    "\n",
    "last_n_lines = lines[-n:]\n",
    "\n",
    "\n",
    "for line in last_n_lines:\n",
    "    print(line, end='')\n"
   ]
  },
  {
   "cell_type": "code",
   "execution_count": null,
   "id": "527e7460-786d-4e52-9401-5f5bc3473ca2",
   "metadata": {},
   "outputs": [],
   "source": [
    "#76 to #82"
   ]
  },
  {
   "cell_type": "code",
   "execution_count": null,
   "id": "d8ddb1ac-0aba-4e3c-8301-dcaa433109f3",
   "metadata": {},
   "outputs": [],
   "source": [
    "#83 - theory\n",
    "#Exception handling is a mechanism in Python that allows you to manage errors that may\n",
    "#occur during program execution. Instead of letting the program crash when an error occurs, \n",
    "#you can use try, except, else, and finally blocks to gracefully handle exceptions.\n",
    "\n",
    "#error:\n",
    "\n",
    "#An error in Python refers to an issue in the code that prevents it from executing as\n",
    "#intended. Errors can be broadly categorized into two main types:"
   ]
  },
  {
   "cell_type": "code",
   "execution_count": 94,
   "id": "f2c196f8-a146-4323-8e7e-d3c86cce2dd4",
   "metadata": {},
   "outputs": [
    {
     "name": "stdin",
     "output_type": "stream",
     "text": [
      "Enter a number:  34\n"
     ]
    }
   ],
   "source": [
    "#84\n",
    "#ex\n",
    "try:\n",
    "    value = int(input(\"Enter a number: \"))\n",
    "    result = 10 / value\n",
    "except ValueError:\n",
    "    print(\"Invalid input! Please enter a valid integer.\")\n",
    "except ZeroDivisionError:\n",
    "    print(\"You cannot divide by zero!\")\n",
    "except Exception as e: \n",
    "    print(f\"An unexpected error occurred: {e}\")\n",
    "\n",
    "#built in exception classes\n",
    "1.valuerror:\n",
    "2.typeerroe:\n",
    "3.zerodivisionerror:\n",
    "4.Indexerror:\n",
    "5.keyerror:"
   ]
  },
  {
   "cell_type": "code",
   "execution_count": 80,
   "id": "e9f4a036-9a16-4794-beac-7e99fbfc7615",
   "metadata": {},
   "outputs": [
    {
     "name": "stdout",
     "output_type": "stream",
     "text": [
      "Division successful, result is: 5.0\n"
     ]
    }
   ],
   "source": [
    "#85\n",
    "try:\n",
    "    result = 10 / 2  \n",
    "except ZeroDivisionError:\n",
    "    print(\"You cannot divide by zero.\")\n",
    "else:\n",
    "    print(\"Division successful, result is:\", result)\n"
   ]
  },
  {
   "cell_type": "code",
   "execution_count": 82,
   "id": "a093186f-84e2-4671-8d74-15dfce948459",
   "metadata": {},
   "outputs": [
    {
     "name": "stdin",
     "output_type": "stream",
     "text": [
      "Enter a number:  34\n"
     ]
    },
    {
     "name": "stdout",
     "output_type": "stream",
     "text": [
      "The result is: 0.29411764705882354\n"
     ]
    }
   ],
   "source": [
    "#86\n",
    "try:\n",
    "    value = int(input(\"Enter a number: \"))\n",
    "    result = 10 / value\n",
    "except (ValueError, ZeroDivisionError) as e:\n",
    "    print(\"An error occurred:\", e)\n",
    "else:\n",
    "    print(\"The result is:\", result)\n"
   ]
  },
  {
   "cell_type": "code",
   "execution_count": 84,
   "id": "55ecf669-16b9-4c9c-b929-8f5024d34a23",
   "metadata": {},
   "outputs": [
    {
     "name": "stdin",
     "output_type": "stream",
     "text": [
      "Enter a number:  56\n"
     ]
    },
    {
     "name": "stdout",
     "output_type": "stream",
     "text": [
      "The result is: 0.17857142857142858\n",
      "Execution of the try-except-finally block is complete.\n"
     ]
    }
   ],
   "source": [
    "#87\n",
    "try:\n",
    "    value = int(input(\"Enter a number: \"))\n",
    "    result = 10 / value\n",
    "except ZeroDivisionError:\n",
    "    print(\"You cannot divide by zero.\")\n",
    "except ValueError:\n",
    "    print(\"Invalid input; please enter a valid number.\")\n",
    "else:\n",
    "    print(\"The result is:\", result)\n",
    "finally:\n",
    "    print(\"Execution of the try-except-finally block is complete.\")\n"
   ]
  },
  {
   "cell_type": "code",
   "execution_count": 86,
   "id": "d6eaaca9-3e5f-4b52-98a8-d2e0231f5f5e",
   "metadata": {},
   "outputs": [
    {
     "name": "stdout",
     "output_type": "stream",
     "text": [
      "False\n"
     ]
    }
   ],
   "source": [
    "#88\n",
    "result = '1' == 1\n",
    "print(result) \n"
   ]
  },
  {
   "cell_type": "code",
   "execution_count": 88,
   "id": "8b62c988-bf35-40e0-9cb6-7f55418ce7ad",
   "metadata": {},
   "outputs": [
    {
     "name": "stdin",
     "output_type": "stream",
     "text": [
      "Enter the numerator:  345\n",
      "Enter the denominator:  67\n"
     ]
    },
    {
     "name": "stdout",
     "output_type": "stream",
     "text": [
      "The result of 345.0 / 67.0 is: 5.149253731343284\n",
      "Execution of the divide_numbers function is complete.\n"
     ]
    }
   ],
   "source": [
    "#89\n",
    "def divide_numbers():\n",
    "    try:\n",
    "        num1 = float(input(\"Enter the numerator: \"))\n",
    "        num2 = float(input(\"Enter the denominator: \"))\n",
    "        result = num1 / num2  \n",
    "    except ValueError:\n",
    "        print(\"Invalid input. Please enter numbers only.\")\n",
    "    except ZeroDivisionError:\n",
    "        print(\"Error: You cannot divide by zero.\")\n",
    "    else:\n",
    "       \n",
    "        print(f\"The result of {num1} / {num2} is: {result}\")\n",
    "    finally:\n",
    "        \n",
    "        print(\"Execution of the divide_numbers function is complete.\")\n",
    "\n",
    "divide_numbers()\n"
   ]
  },
  {
   "cell_type": "code",
   "execution_count": 92,
   "id": "6652aab8-c4e1-471b-ba94-31407da73c06",
   "metadata": {},
   "outputs": [
    {
     "name": "stdin",
     "output_type": "stream",
     "text": [
      "Enter an odd number:  33\n"
     ]
    },
    {
     "name": "stdout",
     "output_type": "stream",
     "text": [
      "Thank you! 33 is an odd number.\n"
     ]
    }
   ],
   "source": [
    "#90\n",
    "\n",
    "def get_odd_number():\n",
    "    try:\n",
    "        num = int(input(\"Enter an odd number: \"))  \n",
    "        print(f\"Thank you! {num} is an odd number.\")  \n",
    "        if num % 2 == 0: \n",
    "            raise ValueError(\"Error: You entered an even number.\") \n",
    "    except ValueError as e:\n",
    "        print(e)  \n",
    "\n",
    "get_odd_number()\n"
   ]
  },
  {
   "cell_type": "code",
   "execution_count": null,
   "id": "be56b1b1-4db4-412b-9a93-f964f55b4a0b",
   "metadata": {},
   "outputs": [],
   "source": []
  }
 ],
 "metadata": {
  "kernelspec": {
   "display_name": "Python 3 (ipykernel)",
   "language": "python",
   "name": "python3"
  },
  "language_info": {
   "codemirror_mode": {
    "name": "ipython",
    "version": 3
   },
   "file_extension": ".py",
   "mimetype": "text/x-python",
   "name": "python",
   "nbconvert_exporter": "python",
   "pygments_lexer": "ipython3",
   "version": "3.12.4"
  }
 },
 "nbformat": 4,
 "nbformat_minor": 5
}
